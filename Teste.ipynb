{
 "cells": [
  {
   "cell_type": "code",
   "execution_count": 1,
   "metadata": {
    "collapsed": false
   },
   "outputs": [
    {
     "name": "stdout",
     "output_type": "stream",
     "text": [
      "[[  0  -5 -10 -15 -20 -25 -30 -35]\n",
      " [ -5   2  -3  -8 -13 -18 -23 -28]\n",
      " [-10  -3  -2  -1  -6 -11 -16 -21]\n",
      " [-15  -8  -4  -6   1  -4  -9 -14]\n",
      " [-20 -13  -9  -5  -4   3  -2  -7]\n",
      " [-25 -18 -14 -10  -3  -2   2  -3]\n",
      " [-30 -23 -16 -15  -8  -7   0  -2]\n",
      " [-35 -28 -21 -14 -13  -9  -5   2]\n",
      " [-40 -33 -26 -19 -12 -14 -10  -3]]\n",
      "G G T A C _ G T _  \n",
      "_ G T A C A G T A\n"
     ]
    }
   ],
   "source": [
    "#!/usr/bin/python -O\n",
    "import numpy as np\n",
    "from numpy import array\n",
    " \n",
    "A, C, G, T = 0, 1, 2, 3\n",
    "int_to_char = {0:'A', 1:'C', 2:'G', 3:'T'}\n",
    " \n",
    "#indel = -1\n",
    "#scoring = array([[1,-1,-1,-1],\n",
    "                 #[-1,1,-1,-1],\n",
    "                 #[-1,-1,1,-1],\n",
    "                 #[-1,-1,-1,1]])\n",
    "indel = -5 \n",
    "scoring = array([[2,-4,-1,-4],\n",
    "                 [-4,2,-4,-1],\n",
    "                 [-1,-4,2,-4],\n",
    "                 [-4,-1,-4,2]])\n",
    " \n",
    "class AlignmentFinder(object):\n",
    "    def __init__(self, seq1, seq2):\n",
    "        self.seq1 = seq1\n",
    "        self.seq2 = seq2\n",
    "        self.D = None\n",
    " \n",
    "    def find_gobal_alignment(self):\n",
    "        self.D = np.zeros((self.seq1.size+1, self.seq2.size+1), dtype=np.int16)\n",
    "        self._compute_array()\n",
    "        print self.D\n",
    "        return self._traceback()\n",
    " \n",
    "    def _compute_array(self):\n",
    "        for i in xrange(self.seq1.size+1):\n",
    "            self.D[i,0] = i*indel\n",
    "        for j in xrange(self.seq2.size+1):\n",
    "            self.D[0,j] = j*indel\n",
    "        for i in xrange(1, self.seq1.size+1):\n",
    "            for j in xrange(1, self.seq2.size+1):\n",
    "                self.D[i,j] = max(  self.D[i-1, j-1] + self._get_score(i, j),\n",
    "                                    self.D[i-1, j] + indel,\n",
    "                                    self.D[i, j-1] + indel)\n",
    "    def _get_score(self, i, j):\n",
    "        ''' The indexing is quite tricky because the matrix as one more row & column.\n",
    "        That causes a shift between the matrix index and the sequence indices.\n",
    "        Therefore, to obtain the correct nucleotide in the sequence, we must\n",
    "        substract 1 to the matrix index. '''\n",
    "        return scoring[self.seq1[i-1], self.seq2[j-1]]\n",
    "    \n",
    "    def _get_aligned_pair(self, i, j):\n",
    "        n1 = int_to_char[self.seq1[i-1]] if i>0 else '_'\n",
    "        n2 = int_to_char[self.seq2[j-1]] if j>0 else '_'\n",
    "        return (n1, n2)\n",
    " \n",
    "    def _traceback(self):\n",
    "        alignment= []\n",
    "        i = self.seq1.size\n",
    "        j = self.seq2.size\n",
    "        while i >0 and j>0:\n",
    "            if self.D[i-1, j-1] + self._get_score(i, j) == self.D[i,j]:\n",
    "                alignment.append(self._get_aligned_pair(i, j))\n",
    "                i -= 1\n",
    "                j -= 1\n",
    "            elif self.D[i-1, j] + indel == self.D[i,j]:\n",
    "                alignment.append(self._get_aligned_pair(i, 0))\n",
    "                i -= 1\n",
    "            else:\n",
    "                alignment.append(self._get_aligned_pair(0, j))\n",
    "                j -= 1\n",
    "        while i > 0:\n",
    "            alignment.append(self._get_aligned_pair(i, 0))\n",
    "            i -= 1\n",
    "        while j > 0:\n",
    "            alignment.append(self._get_aligned_pair(0, j))\n",
    "            j -= 1\n",
    "        alignment.reverse()\n",
    "        return alignment  \n",
    " \n",
    "def print_sequences(pairs):\n",
    "    top_seq = []\n",
    "    bottom_seq = []\n",
    "    for (b, t) in pairs:\n",
    "        bottom_seq.append(b)\n",
    "        top_seq.append(t)\n",
    "    for n in top_seq:\n",
    "        print n,\n",
    "    print ' '\n",
    "    for n in bottom_seq:\n",
    "        print n,\n",
    " \n",
    "if __name__ == \"__main__\":\n",
    "    s1 = array([G, T, A, C, A, G, T, A], dtype=np.int16)\n",
    "    s2 = array([G, G, T, A, C, G, T], dtype=np.int16)\n",
    "    aligner = AlignmentFinder(s1, s2)\n",
    "    pairs = aligner.find_gobal_alignment()\n",
    "    print_sequences(pairs)"
   ]
  },
  {
   "cell_type": "code",
   "execution_count": null,
   "metadata": {
    "collapsed": true
   },
   "outputs": [],
   "source": []
  },
  {
   "cell_type": "code",
   "execution_count": 3,
   "metadata": {
    "collapsed": false
   },
   "outputs": [
    {
     "data": {
      "text/plain": [
       "[0, 1, 2]"
      ]
     },
     "execution_count": 3,
     "metadata": {},
     "output_type": "execute_result"
    }
   ],
   "source": [
    "range(0,3)"
   ]
  },
  {
   "cell_type": "code",
   "execution_count": 4,
   "metadata": {
    "collapsed": false
   },
   "outputs": [
    {
     "data": {
      "text/plain": [
       "[1, 2]"
      ]
     },
     "execution_count": 4,
     "metadata": {},
     "output_type": "execute_result"
    }
   ],
   "source": [
    "range(1,3)"
   ]
  },
  {
   "cell_type": "code",
   "execution_count": 3,
   "metadata": {
    "collapsed": true
   },
   "outputs": [],
   "source": [
    "from copy import deepcopy\n",
    "\n",
    "def sequence_alignemt_linear(x, y, g, a):\n",
    "    m = len(x)\n",
    "    n = len(y)\n",
    "    C = [i*g for i in range(m)]\n",
    "\n",
    "    for j in range(1, n):\n",
    "        L= deepcopy(C)\n",
    "        C[0]=j*g\n",
    "        for i in range(1, m):\n",
    "            _a = 0 if x[i] == y[j] else a\n",
    "            C[i] = min(_a + L[i - 1], g + L[i], g + C[i - 1])\n",
    "    return C, C[m-1]"
   ]
  },
  {
   "cell_type": "code",
   "execution_count": 4,
   "metadata": {
    "collapsed": false
   },
   "outputs": [
    {
     "name": "stdout",
     "output_type": "stream",
     "text": [
      "Cost:  1.7\n"
     ]
    }
   ],
   "source": [
    "x = \"ocurrance\"\n",
    "y = \"occurrence\"\n",
    "g = 0.7\n",
    "a = 1\n",
    "\n",
    "M, cost = sequence_alignemt_linear(x, y, g, a)\n",
    "print \"Cost: \", cost"
   ]
  },
  {
   "cell_type": "code",
   "execution_count": null,
   "metadata": {
    "collapsed": true
   },
   "outputs": [],
   "source": []
  }
 ],
 "metadata": {
  "kernelspec": {
   "display_name": "Python 2",
   "language": "python",
   "name": "python2"
  },
  "language_info": {
   "codemirror_mode": {
    "name": "ipython",
    "version": 2
   },
   "file_extension": ".py",
   "mimetype": "text/x-python",
   "name": "python",
   "nbconvert_exporter": "python",
   "pygments_lexer": "ipython2",
   "version": "2.7.9"
  }
 },
 "nbformat": 4,
 "nbformat_minor": 0
}
