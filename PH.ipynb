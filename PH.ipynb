{
 "cells": [
  {
   "cell_type": "code",
   "execution_count": 9,
   "metadata": {
    "collapsed": true
   },
   "outputs": [],
   "source": [
    "from copy import deepcopy\n",
    "\n",
    "def sequence_alignemt_linear(x, y, g, a):\n",
    "    m = len(x)\n",
    "    n = len(y)\n",
    "    C = [i*g for i in range(m)]\n",
    "\n",
    "    for j in range(1, n):\n",
    "        L = deepcopy(C)\n",
    "        C[0]=j*g\n",
    "        for i in range(1, m):\n",
    "            _a = 0 if x[i] == y[j] else a\n",
    "            C[i] = min(_a + L[i - 1], g + L[i], g + C[i - 1])\n",
    "    return C, C[m-1]\n",
    "\n",
    "def get_sequence(x, y, g, a, M):\n",
    "    diff = [[],[]]\n",
    "    find_sequence(len(x) - 1, len(y) - 1, x, y, g, a, M, diff)\n",
    "    diff[0].reverse()\n",
    "    diff[1].reverse()\n",
    "    return \"\".join(diff[0]), \"\".join(diff[1])\n",
    "\n",
    "\n",
    "def find_sequence(i, j, x, y, g, a, M, diff):\n",
    "    if i > 0 or j > 0:\n",
    "        _a = 0 if x[i] == y[j] else a\n",
    "        if M[i] == _a + M[i - 1]:\n",
    "            if _a == a:\n",
    "                _add_to_diff(diff, \"<%s>\" % x[i], \"<%s>\" % y[j])\n",
    "            _add_to_diff(diff, x[i], y[j])\n",
    "            return find_sequence(i - 1, j - 1, x, y, g, a, M, diff)\n",
    "        elif M[i] == g + M[i]:\n",
    "            _add_to_diff(diff, x[i], \"*\")\n",
    "            return find_sequence(i - 1, j, x, y, g, a, M, diff)\n",
    "        else:\n",
    "            _add_to_diff(diff, \"*\", y[j])\n",
    "            return find_sequence(i, j - 1, x, y, g, a, M, diff)\n",
    "    elif j == 0 and i == 0:\n",
    "        _add_to_diff(diff, x[i], y[j])\n",
    "\n",
    "\n",
    "def _add_to_diff(diff, x, y):\n",
    "    diff[0].append(x)\n",
    "    diff[1].append(y)\n",
    "    \n",
    "    \n",
    "def M-Compute-Opt(j,M)\n",
    "    if j==0:\n",
    "        return 0\n",
    "    elif M[j] != 0:\n",
    "        return M[j]\n",
    "    else:\n",
    "        M[j] = max(\n",
    "def divide_an_conquer_alignment(x,y)\n",
    "    m = len(x)\n",
    "    n = len(y)\n",
    "    \n",
    "    if m <= 2 or n <= 2:\n",
    "Compute optimal alignment using Alignment(X,Y) \n",
    "Call Space-Efficient-Alignment(X,Y[1:n/2])\n",
    "Call Backward-Space-Efficient-Alignment(X,Y[n/2+1:n]) \n",
    "Let q be the index minimizing f(q,n/2)+g(q,n/2)\n",
    "Add (q, n/2) to global list P \n",
    "Divide-and-Conquer-Alignment(X[1 : q],Y[1 : n/2]) \n",
    "Divide-and-Conquer-Alignment(X[q + 1 : n],Y[n/2 + 1 : n]) \n",
    "Return P"
   ]
  },
  {
   "cell_type": "code",
   "execution_count": 11,
   "metadata": {
    "collapsed": false
   },
   "outputs": [
    {
     "name": "stdout",
     "output_type": "stream",
     "text": [
      "Cost:  1.7\n",
      "o*curra<a>nce\n",
      "occurre<e>nce\n"
     ]
    }
   ],
   "source": [
    "x = \"ocurrance\"\n",
    "y = \"occurrence\"\n",
    "g = 0.7\n",
    "a = 1\n",
    "\n",
    "M, cost = sequence_alignemt_linear(x, y, g, a)\n",
    "print \"Cost: \", cost\n",
    "out_x, out_y = get_sequence(x, y, g, a, M)\n",
    "\n",
    "print out_x\n",
    "print out_y"
   ]
  },
  {
   "cell_type": "code",
   "execution_count": null,
   "metadata": {
    "collapsed": true
   },
   "outputs": [],
   "source": []
  }
 ],
 "metadata": {
  "kernelspec": {
   "display_name": "Python 2",
   "language": "python",
   "name": "python2"
  },
  "language_info": {
   "codemirror_mode": {
    "name": "ipython",
    "version": 2
   },
   "file_extension": ".py",
   "mimetype": "text/x-python",
   "name": "python",
   "nbconvert_exporter": "python",
   "pygments_lexer": "ipython2",
   "version": "2.7.9"
  }
 },
 "nbformat": 4,
 "nbformat_minor": 0
}
